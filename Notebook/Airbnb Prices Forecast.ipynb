{
 "cells": [
  {
   "cell_type": "markdown",
   "metadata": {},
   "source": [
    "# Predicting Airbnb Prices\n",
    "\n"
   ]
  },
  {
   "cell_type": "code",
   "execution_count": 1,
   "metadata": {},
   "outputs": [],
   "source": [
    "import pandas as pd\n",
    "import numpy as np\n",
    "from gurobipy import *"
   ]
  },
  {
   "cell_type": "code",
   "execution_count": 2,
   "metadata": {},
   "outputs": [
    {
     "data": {
      "text/html": [
       "<div>\n",
       "<style scoped>\n",
       "    .dataframe tbody tr th:only-of-type {\n",
       "        vertical-align: middle;\n",
       "    }\n",
       "\n",
       "    .dataframe tbody tr th {\n",
       "        vertical-align: top;\n",
       "    }\n",
       "\n",
       "    .dataframe thead th {\n",
       "        text-align: right;\n",
       "    }\n",
       "</style>\n",
       "<table border=\"1\" class=\"dataframe\">\n",
       "  <thead>\n",
       "    <tr style=\"text-align: right;\">\n",
       "      <th></th>\n",
       "      <th>latitude</th>\n",
       "      <th>longitude</th>\n",
       "      <th>Entire home</th>\n",
       "      <th>accommodates</th>\n",
       "      <th>bathrooms</th>\n",
       "      <th>bedrooms</th>\n",
       "      <th>beds</th>\n",
       "      <th>cleaning_fee</th>\n",
       "      <th>minimum_nights</th>\n",
       "      <th>number_of_reviews</th>\n",
       "      <th>review_scores_rating</th>\n",
       "      <th>instant_bookable</th>\n",
       "      <th>price</th>\n",
       "    </tr>\n",
       "  </thead>\n",
       "  <tbody>\n",
       "    <tr>\n",
       "      <th>0</th>\n",
       "      <td>34.103701</td>\n",
       "      <td>-118.332241</td>\n",
       "      <td>1</td>\n",
       "      <td>13</td>\n",
       "      <td>2.0</td>\n",
       "      <td>3</td>\n",
       "      <td>2</td>\n",
       "      <td>150</td>\n",
       "      <td>2</td>\n",
       "      <td>1</td>\n",
       "      <td>100</td>\n",
       "      <td>1</td>\n",
       "      <td>350</td>\n",
       "    </tr>\n",
       "    <tr>\n",
       "      <th>1</th>\n",
       "      <td>34.099484</td>\n",
       "      <td>-118.331645</td>\n",
       "      <td>1</td>\n",
       "      <td>8</td>\n",
       "      <td>2.0</td>\n",
       "      <td>2</td>\n",
       "      <td>4</td>\n",
       "      <td>150</td>\n",
       "      <td>1</td>\n",
       "      <td>11</td>\n",
       "      <td>96</td>\n",
       "      <td>1</td>\n",
       "      <td>190</td>\n",
       "    </tr>\n",
       "    <tr>\n",
       "      <th>2</th>\n",
       "      <td>34.104321</td>\n",
       "      <td>-118.329662</td>\n",
       "      <td>1</td>\n",
       "      <td>4</td>\n",
       "      <td>1.0</td>\n",
       "      <td>0</td>\n",
       "      <td>1</td>\n",
       "      <td>55</td>\n",
       "      <td>1</td>\n",
       "      <td>1</td>\n",
       "      <td>80</td>\n",
       "      <td>0</td>\n",
       "      <td>85</td>\n",
       "    </tr>\n",
       "    <tr>\n",
       "      <th>3</th>\n",
       "      <td>34.101028</td>\n",
       "      <td>-118.317848</td>\n",
       "      <td>0</td>\n",
       "      <td>2</td>\n",
       "      <td>1.0</td>\n",
       "      <td>1</td>\n",
       "      <td>1</td>\n",
       "      <td>20</td>\n",
       "      <td>1</td>\n",
       "      <td>8</td>\n",
       "      <td>98</td>\n",
       "      <td>0</td>\n",
       "      <td>75</td>\n",
       "    </tr>\n",
       "    <tr>\n",
       "      <th>4</th>\n",
       "      <td>34.098292</td>\n",
       "      <td>-118.324980</td>\n",
       "      <td>1</td>\n",
       "      <td>2</td>\n",
       "      <td>1.0</td>\n",
       "      <td>1</td>\n",
       "      <td>1</td>\n",
       "      <td>20</td>\n",
       "      <td>1</td>\n",
       "      <td>11</td>\n",
       "      <td>96</td>\n",
       "      <td>0</td>\n",
       "      <td>130</td>\n",
       "    </tr>\n",
       "    <tr>\n",
       "      <th>...</th>\n",
       "      <td>...</td>\n",
       "      <td>...</td>\n",
       "      <td>...</td>\n",
       "      <td>...</td>\n",
       "      <td>...</td>\n",
       "      <td>...</td>\n",
       "      <td>...</td>\n",
       "      <td>...</td>\n",
       "      <td>...</td>\n",
       "      <td>...</td>\n",
       "      <td>...</td>\n",
       "      <td>...</td>\n",
       "      <td>...</td>\n",
       "    </tr>\n",
       "    <tr>\n",
       "      <th>1695</th>\n",
       "      <td>34.104790</td>\n",
       "      <td>-118.311298</td>\n",
       "      <td>1</td>\n",
       "      <td>2</td>\n",
       "      <td>1.0</td>\n",
       "      <td>1</td>\n",
       "      <td>1</td>\n",
       "      <td>65</td>\n",
       "      <td>2</td>\n",
       "      <td>4</td>\n",
       "      <td>100</td>\n",
       "      <td>1</td>\n",
       "      <td>125</td>\n",
       "    </tr>\n",
       "    <tr>\n",
       "      <th>1696</th>\n",
       "      <td>34.104793</td>\n",
       "      <td>-118.334680</td>\n",
       "      <td>1</td>\n",
       "      <td>6</td>\n",
       "      <td>2.0</td>\n",
       "      <td>2</td>\n",
       "      <td>3</td>\n",
       "      <td>70</td>\n",
       "      <td>1</td>\n",
       "      <td>56</td>\n",
       "      <td>91</td>\n",
       "      <td>1</td>\n",
       "      <td>149</td>\n",
       "    </tr>\n",
       "    <tr>\n",
       "      <th>1697</th>\n",
       "      <td>34.104810</td>\n",
       "      <td>-118.313040</td>\n",
       "      <td>0</td>\n",
       "      <td>4</td>\n",
       "      <td>1.0</td>\n",
       "      <td>1</td>\n",
       "      <td>2</td>\n",
       "      <td>20</td>\n",
       "      <td>1</td>\n",
       "      <td>21</td>\n",
       "      <td>96</td>\n",
       "      <td>1</td>\n",
       "      <td>90</td>\n",
       "    </tr>\n",
       "    <tr>\n",
       "      <th>1698</th>\n",
       "      <td>34.103203</td>\n",
       "      <td>-118.342882</td>\n",
       "      <td>1</td>\n",
       "      <td>3</td>\n",
       "      <td>1.0</td>\n",
       "      <td>1</td>\n",
       "      <td>1</td>\n",
       "      <td>60</td>\n",
       "      <td>1</td>\n",
       "      <td>23</td>\n",
       "      <td>90</td>\n",
       "      <td>1</td>\n",
       "      <td>130</td>\n",
       "    </tr>\n",
       "    <tr>\n",
       "      <th>1699</th>\n",
       "      <td>34.104470</td>\n",
       "      <td>-118.331561</td>\n",
       "      <td>1</td>\n",
       "      <td>3</td>\n",
       "      <td>1.0</td>\n",
       "      <td>0</td>\n",
       "      <td>1</td>\n",
       "      <td>35</td>\n",
       "      <td>1</td>\n",
       "      <td>15</td>\n",
       "      <td>95</td>\n",
       "      <td>0</td>\n",
       "      <td>92</td>\n",
       "    </tr>\n",
       "  </tbody>\n",
       "</table>\n",
       "<p>1700 rows × 13 columns</p>\n",
       "</div>"
      ],
      "text/plain": [
       "       latitude   longitude  Entire home  accommodates  bathrooms  bedrooms  \\\n",
       "0     34.103701 -118.332241            1            13        2.0         3   \n",
       "1     34.099484 -118.331645            1             8        2.0         2   \n",
       "2     34.104321 -118.329662            1             4        1.0         0   \n",
       "3     34.101028 -118.317848            0             2        1.0         1   \n",
       "4     34.098292 -118.324980            1             2        1.0         1   \n",
       "...         ...         ...          ...           ...        ...       ...   \n",
       "1695  34.104790 -118.311298            1             2        1.0         1   \n",
       "1696  34.104793 -118.334680            1             6        2.0         2   \n",
       "1697  34.104810 -118.313040            0             4        1.0         1   \n",
       "1698  34.103203 -118.342882            1             3        1.0         1   \n",
       "1699  34.104470 -118.331561            1             3        1.0         0   \n",
       "\n",
       "      beds  cleaning_fee  minimum_nights  number_of_reviews  \\\n",
       "0        2           150               2                  1   \n",
       "1        4           150               1                 11   \n",
       "2        1            55               1                  1   \n",
       "3        1            20               1                  8   \n",
       "4        1            20               1                 11   \n",
       "...    ...           ...             ...                ...   \n",
       "1695     1            65               2                  4   \n",
       "1696     3            70               1                 56   \n",
       "1697     2            20               1                 21   \n",
       "1698     1            60               1                 23   \n",
       "1699     1            35               1                 15   \n",
       "\n",
       "      review_scores_rating  instant_bookable  price  \n",
       "0                      100                 1    350  \n",
       "1                       96                 1    190  \n",
       "2                       80                 0     85  \n",
       "3                       98                 0     75  \n",
       "4                       96                 0    130  \n",
       "...                    ...               ...    ...  \n",
       "1695                   100                 1    125  \n",
       "1696                    91                 1    149  \n",
       "1697                    96                 1     90  \n",
       "1698                    90                 1    130  \n",
       "1699                    95                 0     92  \n",
       "\n",
       "[1700 rows x 13 columns]"
      ]
     },
     "execution_count": 2,
     "metadata": {},
     "output_type": "execute_result"
    }
   ],
   "source": [
    "data = pd.read_csv('AirbnbTrain.csv')\n",
    "data"
   ]
  },
  {
   "cell_type": "markdown",
   "metadata": {},
   "source": [
    "## Model 1\n",
    "Formulate the least absolute deviations regression problem as a linear program. Solve\n",
    "the linear program using the data given in the file AirbnbTrain.csv. What is the prediction\n",
    "error, in $/night, of your model on the test set (provided in AirbnbTest.csv)?"
   ]
  },
  {
   "cell_type": "markdown",
   "metadata": {},
   "source": [
    "\\begin{align}\n",
    "\\text{Decision Variable}:  z_{i}, \\text {i=1,....n} \\ \\ \\ \\text{ be the prediction error } \n",
    "\\end{align}\n",
    "\n",
    "\\begin{align}\n",
    "\\underset{{\\bf z}}{\\text{min}} \\;\\; &(1/n) *\\sum_{i=1}^nz_{i}\\\\\n",
    "&\\text{s.t.}\\\\\n",
    "& z_{i} \\geq y_{i} - \\sum_{j=1}^d\\beta_{j}x_{ij} , \\ \\text{for  $i=1,.....n$}\\\\\n",
    "& z_{i} \\geq \\sum_{j=1}^d\\beta_{j}x_{ij} -y_{i} ,\\  \\text{for  $i=1,.....n$}\\\\\n",
    "\\end{align}"
   ]
  },
  {
   "cell_type": "code",
   "execution_count": 3,
   "metadata": {},
   "outputs": [],
   "source": [
    "x = data.iloc[:,:-1].values\n",
    "y = data.iloc[:,-1].values"
   ]
  },
  {
   "cell_type": "code",
   "execution_count": 4,
   "metadata": {},
   "outputs": [],
   "source": [
    "# number of price listings\n",
    "n = len(y)\n",
    "#number of features\n",
    "d = len(x[0])"
   ]
  },
  {
   "cell_type": "code",
   "execution_count": 5,
   "metadata": {},
   "outputs": [
    {
     "name": "stdout",
     "output_type": "stream",
     "text": [
      "Set parameter Username\n",
      "Academic license - for non-commercial use only - expires 2025-01-14\n",
      "Gurobi Optimizer version 11.0.0 build v11.0.0rc2 (mac64[arm] - Darwin 23.3.0 23D56)\n",
      "\n",
      "CPU model: Apple M2\n",
      "Thread count: 8 physical cores, 8 logical processors, using up to 8 threads\n",
      "\n",
      "Optimize a model with 3400 rows, 1712 columns and 41372 nonzeros\n",
      "Model fingerprint: 0x49c47e75\n",
      "Coefficient statistics:\n",
      "  Matrix range     [5e-01, 5e+02]\n",
      "  Objective range  [6e-04, 6e-04]\n",
      "  Bounds range     [0e+00, 0e+00]\n",
      "  RHS range        [1e+01, 2e+03]\n",
      "Presolve time: 0.01s\n",
      "Presolved: 3400 rows, 1712 columns, 41372 nonzeros\n",
      "\n",
      "Concurrent LP optimizer: primal simplex, dual simplex, and barrier\n",
      "Showing barrier log only...\n",
      "\n",
      "Ordering time: 0.00s\n",
      "\n",
      "Barrier statistics:\n",
      " Dense cols : 12\n",
      " AA' NZ     : 2.995e+04\n",
      " Factor NZ  : 3.260e+04 (roughly 2 MB of memory)\n",
      " Factor Ops : 4.141e+05 (less than 1 second per iteration)\n",
      " Threads    : 1\n",
      "\n",
      "                  Objective                Residual\n",
      "Iter       Primal          Dual         Primal    Dual     Compl     Time\n",
      "   0   2.13176381e+03  0.00000000e+00  1.36e+03 0.00e+00  2.72e+01     0s\n",
      "   1   1.42686270e+03  1.34119445e+00  0.00e+00 2.37e-04  3.00e+00     0s\n",
      "   2   1.57239143e+02  4.40229493e+00  0.00e+00 6.27e-05  3.18e-01     0s\n",
      "   3   4.71971537e+01  1.62843637e+01  0.00e+00 1.20e-05  6.40e-02     0s\n",
      "   4   3.86444102e+01  3.23128368e+01  0.00e+00 2.78e-17  1.31e-02     0s\n",
      "   5   3.72124774e+01  3.53526314e+01  0.00e+00 2.78e-17  3.84e-03     0s\n",
      "   6   3.66559332e+01  3.61349388e+01  0.00e+00 2.78e-17  1.08e-03     0s\n",
      "   7   3.65009139e+01  3.63156494e+01  0.00e+00 2.78e-17  3.83e-04     0s\n",
      "   8   3.64480314e+01  3.64077685e+01  0.00e+00 2.78e-17  8.32e-05     0s\n",
      "   9   3.64281788e+01  3.64238937e+01  0.00e+00 5.55e-17  8.86e-06     0s\n",
      "  10   3.64263453e+01  3.64258582e+01  0.00e+00 2.78e-17  1.01e-06     0s\n",
      "  11   3.64262531e+01  3.64262432e+01  0.00e+00 2.54e-11  2.06e-08     0s\n",
      "  12   3.64262474e+01  3.64262474e+01  0.00e+00 1.46e-10  2.29e-11     0s\n",
      "\n",
      "Barrier solved model in 12 iterations and 0.05 seconds (0.05 work units)\n",
      "Optimal objective 3.64262474e+01\n",
      "\n",
      "Crossover log...\n",
      "\n",
      "      18 DPushes remaining with DInf 0.0000000e+00                 0s\n",
      "       0 DPushes remaining with DInf 0.0000000e+00                 0s\n",
      "\n",
      "       0 PPushes remaining with PInf 0.0000000e+00                 0s\n",
      "\n",
      "  Push phase complete: Pinf 0.0000000e+00, Dinf 3.4946135e-14      0s\n",
      "\n",
      "\n",
      "Solved with barrier\n",
      "Iteration    Objective       Primal Inf.    Dual Inf.      Time\n",
      "      21    3.6426247e+01   0.000000e+00   0.000000e+00      0s\n",
      "\n",
      "Use crossover to convert LP symmetric solution to basic solution...\n",
      "Crossover log...\n",
      "\n",
      "       0 DPushes remaining with DInf 0.0000000e+00                 0s\n",
      "\n",
      "       0 PPushes remaining with PInf 0.0000000e+00                 0s\n",
      "\n",
      "  Push phase complete: Pinf 0.0000000e+00, Dinf 5.1984948e-14      0s\n",
      "\n",
      "Iteration    Objective       Primal Inf.    Dual Inf.      Time\n",
      "      37    3.6426247e+01   0.000000e+00   0.000000e+00      0s\n",
      "\n",
      "Solved in 37 iterations and 0.06 seconds (0.06 work units)\n",
      "Optimal objective  3.642624740e+01\n"
     ]
    }
   ],
   "source": [
    "# Intializing model 1\n",
    "mod_1 = Model()\n",
    "\n",
    "# defining the decision variable\n",
    "z = mod_1.addVars(n)\n",
    "b = mod_1.addVars(d)\n",
    "\n",
    "# defining the constraints \n",
    "cons_1 = mod_1.addConstrs((z[i] >= y[i] - sum(b[j] * x[i][j] for j in range(d))) for i in range(n))\n",
    "cons_2 = mod_1.addConstrs(z[i] >= sum(b[j] * x[i][j] for j in range(d)) - y[i] for i in range(n))          \n",
    "\n",
    "# objecive function \n",
    "mod_1.setObjective((1/n) * sum(z[i] for i in range(n)), GRB.MINIMIZE)\n",
    "\n",
    "mod_1.update()\n",
    "mod_1.optimize()"
   ]
  },
  {
   "cell_type": "code",
   "execution_count": 6,
   "metadata": {
    "tags": []
   },
   "outputs": [
    {
     "name": "stdout",
     "output_type": "stream",
     "text": [
      "36.426247398213434\n"
     ]
    }
   ],
   "source": [
    "opt = mod_1.objval\n",
    "print(opt)"
   ]
  },
  {
   "cell_type": "code",
   "execution_count": 7,
   "metadata": {
    "tags": []
   },
   "outputs": [],
   "source": [
    "opt = [z[i].x for i in range(n)]"
   ]
  },
  {
   "cell_type": "code",
   "execution_count": 8,
   "metadata": {},
   "outputs": [
    {
     "data": {
      "text/plain": [
       "[290.2514663518523,\n",
       " 84.03092762130778,\n",
       " 36.78323755553825,\n",
       " 9.936817142125033,\n",
       " 31.69433118878754,\n",
       " 19.703957114478886,\n",
       " 0.0,\n",
       " 0.31061628141023223,\n",
       " 0.0,\n",
       " 0.0,\n",
       " 0.2681158824601272,\n",
       " 5.167454373349817]"
      ]
     },
     "execution_count": 8,
     "metadata": {},
     "output_type": "execute_result"
    }
   ],
   "source": [
    "optimal_coefficients = [b[j].x for j in range(d)]\n",
    "optimal_coefficients"
   ]
  },
  {
   "cell_type": "code",
   "execution_count": 9,
   "metadata": {},
   "outputs": [],
   "source": [
    "test = pd.read_csv('AirbnbTest.csv')\n",
    "test_y = test['price']\n",
    "test_x = test.iloc[:,:-1].values"
   ]
  },
  {
   "cell_type": "markdown",
   "metadata": {},
   "source": [
    "### 1. What is the prediction error, in $/night, of your model on the test set"
   ]
  },
  {
   "cell_type": "code",
   "execution_count": 10,
   "metadata": {
    "tags": []
   },
   "outputs": [
    {
     "name": "stdout",
     "output_type": "stream",
     "text": [
      "Model 1 Prediction Error: 35.604535030377846\n"
     ]
    }
   ],
   "source": [
    "# Now, you can use these coefficients to make predictions on the test set\n",
    "# Use the AirbnbTest.csv data to obtain the test set features\n",
    "\n",
    "# Calculate prediction errors on the test set\n",
    "prediction_errors = []\n",
    "for i in range(len(test_y)):\n",
    "    prediction = sum(optimal_coefficients[j] * test_x[i][j] for j in range(d))\n",
    "    error = abs(prediction - test_y[i])\n",
    "    prediction_errors.append(error)\n",
    "\n",
    "# Calculate average prediction error\n",
    "average_prediction_error = sum(prediction_errors) / len(test_y)\n",
    "print(f'Model 1 Prediction Error: {average_prediction_error}')"
   ]
  },
  {
   "cell_type": "markdown",
   "metadata": {
    "tags": []
   },
   "source": [
    "## Model 2\n",
    "Suppose that to improve interpretability, you wish to build a model that predicts\n",
    "Airbnb prices using only the three most important variables. Modify Model 1 by including a\n",
    "constraint that allows at most three variables to have non-zero coefficients. \n",
    "\n",
    "a) List the names and coefficients of the three variables selected by the optimization model.  \n",
    "b) What is the new prediction error, in $/night, of Model 2?"
   ]
  },
  {
   "cell_type": "markdown",
   "metadata": {},
   "source": [
    "\n",
    "\\begin{align}\n",
    "\\text{Decision Variable}: z_{i}, \\text {i=1,....n} \\ \\ \\ \\text{ be the prediction error }\\\\\n",
    "\\end{align}\n",
    "\n",
    "\n",
    "\n",
    "\\begin{align}\n",
    "\\underset{{\\bf {z, w}}}{\\text{min}} \\;\\; &(1/n) *\\sum_{i=1}^nz_{i}\\\\\n",
    "&\\text{s.t.}\\\\\n",
    "& z_{i} \\geq y_{i} - \\sum_{j=1}^d\\beta_{j}x_{ij} , \\ \\text{for  $i=1,.....n$}\\\\\n",
    "& z_{i} \\geq \\sum_{j=1}^d\\beta_{j}x_{ij} -y_{i} ,\\  \\text{for  $i=1,.....n$}\\\\\n",
    "& \\beta_{j} \\leq  1000 * w_{j} ,\\  \\text{for  $j=1,.....d$}\\\\\n",
    "& \\beta_{j} \\geq - 1000 * w_{j} ,\\  \\text{for  $j=1,.....d$}\\\\\n",
    "& \\sum_{j=1}^dw_{j} \\leq 3 \\\\\n",
    "& w_{j} \\in {{0,1}},  \\text{for  $j=1,.....d$}\\\\\n",
    "\\end{align}"
   ]
  },
  {
   "cell_type": "code",
   "execution_count": 11,
   "metadata": {
    "tags": []
   },
   "outputs": [
    {
     "name": "stdout",
     "output_type": "stream",
     "text": [
      "Gurobi Optimizer version 11.0.0 build v11.0.0rc2 (mac64[arm] - Darwin 23.3.0 23D56)\n",
      "\n",
      "CPU model: Apple M2\n",
      "Thread count: 8 physical cores, 8 logical processors, using up to 8 threads\n",
      "\n",
      "Optimize a model with 3425 rows, 1724 columns and 41432 nonzeros\n",
      "Model fingerprint: 0xfc339209\n",
      "Variable types: 1712 continuous, 12 integer (12 binary)\n",
      "Coefficient statistics:\n",
      "  Matrix range     [5e-01, 1e+03]\n",
      "  Objective range  [6e-04, 6e-04]\n",
      "  Bounds range     [1e+00, 1e+00]\n",
      "  RHS range        [3e+00, 2e+03]\n",
      "Found heuristic solution: objective 144.9682353\n",
      "Presolve removed 840 rows and 414 columns\n",
      "Presolve time: 0.02s\n",
      "Presolved: 2585 rows, 1310 columns, 31274 nonzeros\n",
      "Variable types: 1298 continuous, 12 integer (12 binary)\n",
      "\n",
      "Root relaxation: objective 3.642625e+01, 1462 iterations, 0.10 seconds (0.33 work units)\n",
      "\n",
      "    Nodes    |    Current Node    |     Objective Bounds      |     Work\n",
      " Expl Unexpl |  Obj  Depth IntInf | Incumbent    BestBd   Gap | It/Node Time\n",
      "\n",
      "     0     0   36.42625    0    7  144.96824   36.42625  74.9%     -    0s\n",
      "H    0     0                      98.0029571   36.42625  62.8%     -    0s\n",
      "H    0     0                      61.6243748   36.42625  40.9%     -    0s\n",
      "     0     0   36.42966    0   11   61.62437   36.42966  40.9%     -    0s\n",
      "H    0     0                      48.4680666   36.43368  24.8%     -    0s\n",
      "H    0     0                      44.5170588   36.43368  18.2%     -    0s\n",
      "     0     0   36.43368    0   11   44.51706   36.43368  18.2%     -    0s\n",
      "     0     0   36.45828    0   10   44.51706   36.45828  18.1%     -    0s\n",
      "H    0     0                      39.6076471   36.45828  7.95%     -    0s\n",
      "     0     0   36.48649    0   10   39.60765   36.48649  7.88%     -    0s\n",
      "     0     0   37.24576    0   10   39.60765   37.24576  5.96%     -    0s\n",
      "     0     0   37.24576    0   10   39.60765   37.24576  5.96%     -    0s\n",
      "     0     0   37.26238    0   11   39.60765   37.26238  5.92%     -    0s\n",
      "H    0     0                      38.3388235   37.26238  2.81%     -    0s\n",
      "     0     0   37.28238    0   11   38.33882   37.28238  2.76%     -    0s\n",
      "     0     0   37.99865    0    9   38.33882   37.99865  0.89%     -    0s\n",
      "     0     0   38.15628    0   10   38.33882   38.15628  0.48%     -    0s\n",
      "\n",
      "Cutting planes:\n",
      "  Gomory: 2\n",
      "  MIR: 15\n",
      "  Flow cover: 44\n",
      "\n",
      "Explored 1 nodes (1693 simplex iterations) in 0.54 seconds (1.02 work units)\n",
      "Thread count was 8 (of 8 available processors)\n",
      "\n",
      "Solution count 7: 38.3388 39.6076 44.5171 ... 144.968\n",
      "\n",
      "Optimal solution found (tolerance 1.00e-04)\n",
      "Best objective 3.833882352941e+01, best bound 3.833882352941e+01, gap 0.0000%\n"
     ]
    }
   ],
   "source": [
    "#Intializing model 2\n",
    "mod_2 = Model()\n",
    "\n",
    "# defining the decision variable\n",
    "b = mod_2.addVars(d)\n",
    "z = mod_2.addVars(n)\n",
    "w = mod_2.addVars(d, vtype = GRB.BINARY)\n",
    "\n",
    "# defining the constraints \n",
    "for i in range(n):\n",
    "    cons_1 = mod_2.addConstr(z[i] >= y[i] - sum(b[j]*x[i][j] for j in range(d)))\n",
    "    cons_2 = mod_2.addConstr(z[i] >= sum(b[j]*x[i][j] for j in range(d)) - y[i])\n",
    "\n",
    "cons_3 = mod_2.addConstrs(b[j] <= 1000 * w[j] for j in range(d))\n",
    "cons_4 = mod_2.addConstrs(b[j] >= - 1000 * w[j] for j in range(d))\n",
    "cons_5 = mod_2.addConstr(sum(w[j] for j in range(d)) <= 3)\n",
    " \n",
    "# objective function \n",
    "mod_2.setObjective((1/n) * sum(z[i] for i in range(n)), GRB.MINIMIZE)\n",
    "    \n",
    "mod_2.update()\n",
    "mod_2.optimize()"
   ]
  },
  {
   "cell_type": "markdown",
   "metadata": {},
   "source": [
    "### a) List the names and coefficients of the three variables selected by the optimization model."
   ]
  },
  {
   "cell_type": "code",
   "execution_count": 12,
   "metadata": {},
   "outputs": [
    {
     "name": "stdout",
     "output_type": "stream",
     "text": [
      "Selected Variables and Coefficients:\n",
      "Variable Entire home: Coefficient 52.0\n",
      "Variable accommodates: Coefficient 14.0\n",
      "Variable bedrooms: Coefficient 32.0\n"
     ]
    }
   ],
   "source": [
    "#selected variables\n",
    "beta_values = {j: b[j].X for j in range(d)}\n",
    "selected_variables = [j for j in range(d) if w[j].X > 0]\n",
    "\n",
    "print(\"Selected Variables and Coefficients:\")\n",
    "for j in selected_variables:\n",
    "    print(f\"Variable {data.columns[j]}: Coefficient {beta_values[j]}\")"
   ]
  },
  {
   "cell_type": "markdown",
   "metadata": {
    "tags": []
   },
   "source": [
    "### b) What is the new prediction error, in $/night, of Model 2?"
   ]
  },
  {
   "cell_type": "code",
   "execution_count": 13,
   "metadata": {},
   "outputs": [
    {
     "name": "stdout",
     "output_type": "stream",
     "text": [
      "Model 2 Prediction Error: 37.73676680972818\n"
     ]
    }
   ],
   "source": [
    "# new prediction error\n",
    "# Calculate prediction errors on the test set\n",
    "prediction_errors = []\n",
    "for i in range(len(test_y)):\n",
    "    prediction = sum(beta_values[j] * test_x[i][j] for j in range(d))\n",
    "    error = abs(prediction - test_y[i])\n",
    "    prediction_errors.append(error)\n",
    "\n",
    "# Calculate average prediction error\n",
    "average_prediction_error = sum(prediction_errors) / len(test_y)\n",
    "print(f'Model 2 Prediction Error: {average_prediction_error}')"
   ]
  },
  {
   "cell_type": "markdown",
   "metadata": {
    "tags": []
   },
   "source": [
    "## Model 3\n",
    "Suppose now you wish to build a model that predicts Airbnb listing price using only\n",
    "three variables, where one of the variables is the number of beds.  \n",
    "\n",
    "a) List the names and coefficients of the two other variables selected by the optimization model.  \n",
    "b) Which variable was inModel 2 but is no longer inModel 3? Briefly explain in 1-2 sentences why this variable might have been dropped.  \n",
    "c) What is the new prediction error, in $/night, of Model 3?"
   ]
  },
  {
   "cell_type": "markdown",
   "metadata": {},
   "source": [
    "\n",
    "\\begin{align}\n",
    "\\text{Decision Variable}: z_{i}, \\text {i=1,....n} \\ \\ \\ \\text{ be the prediction error }\\\\\n",
    "\\end{align}\n",
    "\n",
    "\n",
    "\n",
    "\\begin{align}\n",
    "\\underset{{\\bf z,w}}{\\text{min}} \\;\\; &(1/n) *\\sum_{i=1}^nz_{i}\\\\\n",
    "&\\text{s.t.}\\\\\n",
    "& z_{i} \\geq y_{i} - \\sum_{j=1}^d\\beta_{j}x_{ij} , \\ \\text{for  $i=1,.....n$}\\\\\n",
    "& z_{i} \\geq \\sum_{j=1}^d\\beta_{j}x_{ij} -y_{i} ,\\  \\text{for  $i=1,.....n$}\\\\\n",
    "& \\beta_{j} \\leq  1000 * w_{j} ,\\  \\text{for  $j=1,.....d$}\\\\\n",
    "& \\beta_{j} \\geq - 1000 * w_{j} ,\\  \\text{for  $j=1,.....d$}\\\\\n",
    "& \\sum_{j=1}^dw_{j} = 3 \\\\\n",
    "& w_{6} = 1 \\ \\ \\ \\text{(Number of beds indexed at 6)}\\\\\n",
    "& w_{j} \\in {{0,1}},  \\text{for  $j=1,.....d$}\\\\\n",
    "\\end{align}"
   ]
  },
  {
   "cell_type": "code",
   "execution_count": 14,
   "metadata": {},
   "outputs": [
    {
     "data": {
      "text/plain": [
       "0       2\n",
       "1       4\n",
       "2       1\n",
       "3       1\n",
       "4       1\n",
       "       ..\n",
       "1695    1\n",
       "1696    3\n",
       "1697    2\n",
       "1698    1\n",
       "1699    1\n",
       "Name: beds, Length: 1700, dtype: int64"
      ]
     },
     "execution_count": 14,
     "metadata": {},
     "output_type": "execute_result"
    }
   ],
   "source": [
    "# confirm the index of number of beds\n",
    "data.iloc[:,6]"
   ]
  },
  {
   "cell_type": "code",
   "execution_count": 15,
   "metadata": {
    "tags": []
   },
   "outputs": [
    {
     "name": "stdout",
     "output_type": "stream",
     "text": [
      "Gurobi Optimizer version 11.0.0 build v11.0.0rc2 (mac64[arm] - Darwin 23.3.0 23D56)\n",
      "\n",
      "CPU model: Apple M2\n",
      "Thread count: 8 physical cores, 8 logical processors, using up to 8 threads\n",
      "\n",
      "Optimize a model with 26 rows, 1724 columns and 61 nonzeros\n",
      "Model fingerprint: 0xad4ed5ea\n",
      "Model has 3400 quadratic constraints\n",
      "Variable types: 1712 continuous, 12 integer (12 binary)\n",
      "Coefficient statistics:\n",
      "  Matrix range     [1e+00, 1e+03]\n",
      "  QMatrix range    [5e-01, 5e+02]\n",
      "  QLMatrix range   [1e+00, 1e+00]\n",
      "  Objective range  [6e-04, 6e-04]\n",
      "  Bounds range     [1e+00, 1e+00]\n",
      "  RHS range        [1e+00, 3e+00]\n",
      "  QRHS range       [1e+01, 2e+03]\n",
      "Presolve added 810 rows and 409 columns\n",
      "Presolve time: 0.03s\n",
      "Presolved: 3441 rows, 2144 columns, 32996 nonzeros\n",
      "Variable types: 2133 continuous, 11 integer (11 binary)\n",
      "Found heuristic solution: objective 48.6558384\n",
      "Found heuristic solution: objective 48.5975270\n",
      "\n",
      "Root relaxation: objective 3.642625e+01, 2314 iterations, 0.14 seconds (0.48 work units)\n",
      "\n",
      "    Nodes    |    Current Node    |     Objective Bounds      |     Work\n",
      " Expl Unexpl |  Obj  Depth IntInf | Incumbent    BestBd   Gap | It/Node Time\n",
      "\n",
      "     0     0   36.42625    0    8   48.59753   36.42625  25.0%     -    0s\n",
      "     0     0   36.43796    0   11   48.59753   36.43796  25.0%     -    0s\n",
      "     0     0   36.46357    0   11   48.59753   36.46357  25.0%     -    0s\n",
      "H    0     0                      44.3144118   36.46357  17.7%     -    0s\n",
      "     0     0   36.49737    0   10   44.31441   36.49737  17.6%     -    0s\n",
      "     0     0   36.52844    0   10   44.31441   36.52844  17.6%     -    0s\n",
      "     0     0   36.52946    0   10   44.31441   36.52946  17.6%     -    0s\n",
      "     0     0   36.53217    0   10   44.31441   36.53217  17.6%     -    0s\n",
      "     0     0   36.53257    0   10   44.31441   36.53257  17.6%     -    0s\n",
      "     0     0   36.53258    0   10   44.31441   36.53258  17.6%     -    0s\n",
      "H    0     0                      43.7733937   36.53258  16.5%     -    0s\n",
      "H    0     0                      42.3414394   37.55534  11.3%     -    0s\n",
      "     0     0   37.55534    0   10   42.34144   37.55534  11.3%     -    0s\n",
      "     0     0   37.55566    0   10   42.34144   37.55566  11.3%     -    0s\n",
      "     0     0   37.55566    0   10   42.34144   37.55566  11.3%     -    0s\n",
      "     0     0   37.55566    0   10   42.34144   37.55566  11.3%     -    0s\n",
      "     0     0   37.55566    0    9   42.34144   37.55566  11.3%     -    0s\n",
      "     0     0   37.55566    0   10   42.34144   37.55566  11.3%     -    0s\n",
      "     0     0   38.00215    0   10   42.34144   38.00215  10.2%     -    0s\n",
      "H    0     0                      40.0730147   38.00215  5.17%     -    0s\n",
      "     0     0   38.04941    0   10   40.07301   38.04941  5.05%     -    0s\n",
      "     0     0   38.04941    0   10   40.07301   38.04941  5.05%     -    0s\n",
      "     0     0   38.04941    0   10   40.07301   38.04941  5.05%     -    0s\n",
      "     0     0   39.18353    0   10   40.07301   39.18353  2.22%     -    0s\n",
      "\n",
      "Cutting planes:\n",
      "  Gomory: 2\n",
      "  MIR: 5\n",
      "  Flow cover: 77\n",
      "  RLT: 2\n",
      "  Relax-and-lift: 1\n",
      "\n",
      "Explored 1 nodes (2745 simplex iterations) in 0.93 seconds (2.05 work units)\n",
      "Thread count was 8 (of 8 available processors)\n",
      "\n",
      "Solution count 6: 40.073 42.3414 43.7734 ... 48.6558\n",
      "\n",
      "Optimal solution found (tolerance 1.00e-04)\n",
      "Best objective 4.007301470588e+01, best bound 4.007301470588e+01, gap 0.0000%\n"
     ]
    }
   ],
   "source": [
    "#Intializing model 3\n",
    "mod_3 = Model()\n",
    "\n",
    "# defining the decision variable\n",
    "z = mod_3.addVars(n)\n",
    "b = mod_3.addVars(d)\n",
    "w = mod_3.addVars(d, vtype = GRB.BINARY)\n",
    "\n",
    "# defining the constraints \n",
    "for i in range(n):\n",
    "    cons_1 = mod_3.addConstr(z[i] >= y[i] - sum(b[j]*x[i][j]*w[j] for j in range(d)))\n",
    "    cons_2 = mod_3.addConstr(z[i] >= sum(b[j]*x[i][j]*w[j] for j in range(d)) - y[i])\n",
    "\n",
    "cons_3 = mod_3.addConstrs(b[j] <= 1000 * w[j] for j in range(d))\n",
    "cons_4 = mod_3.addConstrs(b[j] >= - 1000 * w[j] for j in range(d))\n",
    "cons_5 = mod_3.addConstr(sum(w[j] for j in range(d)) == 3)\n",
    "cons_6 = mod_3.addConstr(w[6] == 1)\n",
    "\n",
    "# objecive function \n",
    "mod_3.setObjective((1/n) * sum(z[i] for i in range(n)), GRB.MINIMIZE)\n",
    "\n",
    "mod_3.update()\n",
    "mod_3.optimize()"
   ]
  },
  {
   "cell_type": "markdown",
   "metadata": {},
   "source": [
    "### a) List the names and coefficients of the two other variables selected by the optimization model."
   ]
  },
  {
   "cell_type": "code",
   "execution_count": 16,
   "metadata": {
    "tags": []
   },
   "outputs": [
    {
     "name": "stdout",
     "output_type": "stream",
     "text": [
      "Selected Variables and Coefficients:\n",
      "Variable Entire home: Coefficient 67.875\n",
      "Variable bedrooms: Coefficient 47.375\n",
      "Variable beds: Coefficient 12.125\n"
     ]
    }
   ],
   "source": [
    "#selected variables\n",
    "beta_values_3 = {j: b[j].X for j in range(d)}\n",
    "selected_variables = [j for j in range(d) if w[j].X > 0]\n",
    "\n",
    "print(\"Selected Variables and Coefficients:\")\n",
    "for j in selected_variables:\n",
    "    print(f\"Variable {data.columns[j]}: Coefficient {beta_values_3[j]}\")"
   ]
  },
  {
   "cell_type": "markdown",
   "metadata": {},
   "source": [
    "### b) Which variable was in Model 2 but is no longer in Model 3? Briefly explain in 1-2 sentences why this variable might have been dropped.\n",
    "\n",
    "The variable `accommodates` was in model 2 but has been dropped in model 3 because it is highly correlated/ associated with the second binary decision variable (bed). The exclusion of this variable in Model 3 might suggest that the optimization model prioritizes interpretability and simplicity by selecting only the most relevant variables, and `accomomdates` did not contribute significantly to the model's predictive power or was redundant given the inclusion of other features."
   ]
  },
  {
   "cell_type": "code",
   "execution_count": 17,
   "metadata": {},
   "outputs": [
    {
     "data": {
      "text/html": [
       "<div>\n",
       "<style scoped>\n",
       "    .dataframe tbody tr th:only-of-type {\n",
       "        vertical-align: middle;\n",
       "    }\n",
       "\n",
       "    .dataframe tbody tr th {\n",
       "        vertical-align: top;\n",
       "    }\n",
       "\n",
       "    .dataframe thead th {\n",
       "        text-align: right;\n",
       "    }\n",
       "</style>\n",
       "<table border=\"1\" class=\"dataframe\">\n",
       "  <thead>\n",
       "    <tr style=\"text-align: right;\">\n",
       "      <th></th>\n",
       "      <th>beds</th>\n",
       "      <th>accommodates</th>\n",
       "    </tr>\n",
       "  </thead>\n",
       "  <tbody>\n",
       "    <tr>\n",
       "      <th>beds</th>\n",
       "      <td>1.000000</td>\n",
       "      <td>0.714887</td>\n",
       "    </tr>\n",
       "    <tr>\n",
       "      <th>accommodates</th>\n",
       "      <td>0.714887</td>\n",
       "      <td>1.000000</td>\n",
       "    </tr>\n",
       "  </tbody>\n",
       "</table>\n",
       "</div>"
      ],
      "text/plain": [
       "                  beds  accommodates\n",
       "beds          1.000000      0.714887\n",
       "accommodates  0.714887      1.000000"
      ]
     },
     "execution_count": 17,
     "metadata": {},
     "output_type": "execute_result"
    }
   ],
   "source": [
    "data[['beds', 'accommodates']].corr()"
   ]
  },
  {
   "cell_type": "markdown",
   "metadata": {},
   "source": [
    "### c) What is the new prediction error, in $/night, of Model 3?"
   ]
  },
  {
   "cell_type": "code",
   "execution_count": 18,
   "metadata": {
    "tags": []
   },
   "outputs": [
    {
     "name": "stdout",
     "output_type": "stream",
     "text": [
      "Model 3 Prediction Error: 38.59960658082976\n"
     ]
    }
   ],
   "source": [
    "# new prediction error\n",
    "# Calculate prediction errors on the test set\n",
    "prediction_errors = []\n",
    "for i in range(len(test_y)):\n",
    "    prediction = sum(beta_values_3[j] * test_x[i][j] for j in range(d))\n",
    "    error = abs(prediction - test_y[i])\n",
    "    prediction_errors.append(error)\n",
    "\n",
    "# Calculate average prediction error\n",
    "average_prediction_error = sum(prediction_errors) / len(test_y)\n",
    "print(f'Model 3 Prediction Error: {average_prediction_error}')"
   ]
  }
 ],
 "metadata": {
  "kernelspec": {
   "display_name": "Python 3 (ipykernel)",
   "language": "python",
   "name": "python3"
  },
  "language_info": {
   "codemirror_mode": {
    "name": "ipython",
    "version": 3
   },
   "file_extension": ".py",
   "mimetype": "text/x-python",
   "name": "python",
   "nbconvert_exporter": "python",
   "pygments_lexer": "ipython3",
   "version": "3.11.4"
  }
 },
 "nbformat": 4,
 "nbformat_minor": 4
}
